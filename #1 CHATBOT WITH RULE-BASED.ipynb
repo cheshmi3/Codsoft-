{
 "cells": [
  {
   "cell_type": "code",
   "execution_count": 8,
   "id": "08d7d018-aee8-4aa9-9b66-785700074aff",
   "metadata": {},
   "outputs": [
    {
     "name": "stdout",
     "output_type": "stream",
     "text": [
      "Hello! I'm a chatbot.\n"
     ]
    },
    {
     "name": "stdin",
     "output_type": "stream",
     "text": [
      "You:  hi\n"
     ]
    },
    {
     "name": "stdout",
     "output_type": "stream",
     "text": [
      "Chatbot: Hello! How can I assist you?\n"
     ]
    },
    {
     "name": "stdin",
     "output_type": "stream",
     "text": [
      "You:  how are you\n"
     ]
    },
    {
     "name": "stdout",
     "output_type": "stream",
     "text": [
      "Chatbot: I'm fine ^-^, Thank you!\n",
      "         What about you?\n"
     ]
    },
    {
     "name": "stdin",
     "output_type": "stream",
     "text": [
      "You:  i need some help\n"
     ]
    },
    {
     "name": "stdout",
     "output_type": "stream",
     "text": [
      "Chatbot: Sure, I'm here to help you. \n",
      "         Please ask your question.\n"
     ]
    },
    {
     "name": "stdin",
     "output_type": "stream",
     "text": [
      "You:  who are you\n"
     ]
    },
    {
     "name": "stdout",
     "output_type": "stream",
     "text": [
      "Chatbot: I'm a simple rule-based chatbot created to assist you.\n"
     ]
    },
    {
     "name": "stdin",
     "output_type": "stream",
     "text": [
      "You:  what can you do\n"
     ]
    },
    {
     "name": "stdout",
     "output_type": "stream",
     "text": [
      "Chatbot: I can respond to your basic greetings, farewells, and simple questions. I can also tell you the current time and recommend movies.\n"
     ]
    },
    {
     "name": "stdin",
     "output_type": "stream",
     "text": [
      "You:  recommend some movies\n"
     ]
    },
    {
     "name": "stdout",
     "output_type": "stream",
     "text": [
      "Chatbot: Here are some movie recommendations: \n",
      "- Old: Casablanca\n",
      "- Modern: Inception\n",
      "- New: Parasite\n"
     ]
    },
    {
     "name": "stdin",
     "output_type": "stream",
     "text": [
      "You:  suggest a series\n"
     ]
    },
    {
     "name": "stdout",
     "output_type": "stream",
     "text": [
      "Chatbot: Here are some TV series recommendations: \n",
      "- Old: Friends\n",
      "- Modern: Stranger Things\n",
      "- New: The Mandalorian\n"
     ]
    },
    {
     "name": "stdin",
     "output_type": "stream",
     "text": [
      "You:  thank you\n"
     ]
    },
    {
     "name": "stdout",
     "output_type": "stream",
     "text": [
      "Chatbot: You're welcome! If you have any more questions, feel free to ask me.\n"
     ]
    },
    {
     "name": "stdin",
     "output_type": "stream",
     "text": [
      "You:  what time is it\n"
     ]
    },
    {
     "name": "stdout",
     "output_type": "stream",
     "text": [
      "Chatbot: The current time is 22:17:17.\n"
     ]
    },
    {
     "name": "stdin",
     "output_type": "stream",
     "text": [
      "You:  bye\n"
     ]
    },
    {
     "name": "stdout",
     "output_type": "stream",
     "text": [
      "Chatbot: Goodbye! Have a great day!\n"
     ]
    }
   ],
   "source": [
    "import re\n",
    "from datetime import datetime\n",
    "def chatbot():\n",
    "    \n",
    "    print(\"Hello! I'm a chatbot.\")\n",
    "    while True:\n",
    "        user_input = input(\"You: \").strip().lower()\n",
    "        \n",
    "        if re.search(r'\\b(hello|hi|hey)\\b', user_input):\n",
    "            print(\"Chatbot: Hello! How can I assist you?\")\n",
    "            \n",
    "        elif re.search(r'\\b(how are you|how are you doing)\\b', user_input):\n",
    "            print(\"Chatbot: I'm fine ^-^, Thank you!\\n         What about you?\")\n",
    "            \n",
    "        elif re.search(r'\\b(i need some help)\\b', user_input):\n",
    "            print(\"Chatbot: Sure, I'm here to help you. \\n         Please ask your question.\")\n",
    "            \n",
    "        elif re.search(r'\\b(who are you|what is your name)\\b', user_input):\n",
    "            print(\"Chatbot: I'm a simple rule-based chatbot created to assist you.\")\n",
    "            \n",
    "        elif re.search(r'\\b(what can you do|what are your capabilities)\\b', user_input):\n",
    "            print(\"Chatbot: I can respond to your basic greetings, farewells, and simple questions. \"\n",
    "                  \"I can also tell you the current time and recommend movies.\")\n",
    "            \n",
    "        elif re.search(r'\\b(recommend some movies|suggest a movie)\\b', user_input):\n",
    "            print(\"Chatbot: Here are some movie recommendations: \")\n",
    "            print(\"- Old: Casablanca\")\n",
    "            print(\"- Modern: Inception\")\n",
    "            print(\"- New: Parasite\")\n",
    "            \n",
    "        elif re.search(r'\\b(recommend a series|suggest a series)\\b', user_input):\n",
    "            print(\"Chatbot: Here are some TV series recommendations: \")\n",
    "            print(\"- Old: Friends\")\n",
    "            print(\"- Modern: Stranger Things\")\n",
    "            print(\"- New: The Mandalorian\")\n",
    "            \n",
    "        elif re.search(r'\\b(thank you|thanks)\\b', user_input):\n",
    "            print(\"Chatbot: You're welcome! If you have any more questions, feel free to ask me.\")\n",
    "            \n",
    "        elif re.search(r'\\b(what time is it|current time)\\b', user_input):\n",
    "            now = datetime.now().strftime(\"%H:%M:%S\")\n",
    "            print(f\"Chatbot: The current time is {now}.\")\n",
    "            \n",
    "        elif re.search(r'\\b(weather|weather update|what\\'s the weather)\\b', user_input):\n",
    "            print(\"Chatbot: Oops, I am sorry I can't provide real-time weather updates 0_0 \\n         But you can check your local weather app or website.\")\n",
    "            \n",
    "        elif re.search(r'\\b(bye|goodbye|see you)\\b', user_input):\n",
    "            print(\"Chatbot: Goodbye! Have a great day!\")\n",
    "            \n",
    "            break\n",
    "        else:\n",
    "            print(\"Chatbot: I'm sorry, I don't understand that. Can you please rephrase?\")\n",
    "            \n",
    "if __name__ == \"__main__\":\n",
    "    chatbot()\n"
   ]
  },
  {
   "cell_type": "code",
   "execution_count": null,
   "id": "a1c0e5d8-7351-4e20-91fa-f63c64635b1d",
   "metadata": {},
   "outputs": [],
   "source": []
  }
 ],
 "metadata": {
  "kernelspec": {
   "display_name": "Python 3 (ipykernel)",
   "language": "python",
   "name": "python3"
  },
  "language_info": {
   "codemirror_mode": {
    "name": "ipython",
    "version": 3
   },
   "file_extension": ".py",
   "mimetype": "text/x-python",
   "name": "python",
   "nbconvert_exporter": "python",
   "pygments_lexer": "ipython3",
   "version": "3.11.7"
  }
 },
 "nbformat": 4,
 "nbformat_minor": 5
}
