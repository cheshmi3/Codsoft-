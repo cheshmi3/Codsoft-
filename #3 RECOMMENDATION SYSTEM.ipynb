{
 "cells": [
  {
   "cell_type": "code",
   "execution_count": 1,
   "id": "583596a5-da1d-4b19-8def-d5cefc2aaffd",
   "metadata": {},
   "outputs": [
    {
     "name": "stdout",
     "output_type": "stream",
     "text": [
      "Requirement already satisfied: numpy in c:\\users\\duvvuru cheshmitha\\anaconda3\\lib\\site-packages (1.26.4)\n",
      "Requirement already satisfied: pandas in c:\\users\\duvvuru cheshmitha\\anaconda3\\lib\\site-packages (2.1.4)\n",
      "Requirement already satisfied: scikit-learn in c:\\users\\duvvuru cheshmitha\\anaconda3\\lib\\site-packages (1.2.2)\n",
      "Requirement already satisfied: python-dateutil>=2.8.2 in c:\\users\\duvvuru cheshmitha\\anaconda3\\lib\\site-packages (from pandas) (2.8.2)\n",
      "Requirement already satisfied: pytz>=2020.1 in c:\\users\\duvvuru cheshmitha\\anaconda3\\lib\\site-packages (from pandas) (2023.3.post1)\n",
      "Requirement already satisfied: tzdata>=2022.1 in c:\\users\\duvvuru cheshmitha\\anaconda3\\lib\\site-packages (from pandas) (2023.3)\n",
      "Requirement already satisfied: scipy>=1.3.2 in c:\\users\\duvvuru cheshmitha\\anaconda3\\lib\\site-packages (from scikit-learn) (1.11.4)\n",
      "Requirement already satisfied: joblib>=1.1.1 in c:\\users\\duvvuru cheshmitha\\anaconda3\\lib\\site-packages (from scikit-learn) (1.2.0)\n",
      "Requirement already satisfied: threadpoolctl>=2.0.0 in c:\\users\\duvvuru cheshmitha\\anaconda3\\lib\\site-packages (from scikit-learn) (2.2.0)\n",
      "Requirement already satisfied: six>=1.5 in c:\\users\\duvvuru cheshmitha\\anaconda3\\lib\\site-packages (from python-dateutil>=2.8.2->pandas) (1.16.0)\n",
      "Note: you may need to restart the kernel to use updated packages.\n"
     ]
    }
   ],
   "source": [
    "pip install numpy pandas scikit-learn\n"
   ]
  },
  {
   "cell_type": "code",
   "execution_count": 2,
   "id": "68e231ff-c050-45f9-b86c-00ca9f845c5e",
   "metadata": {},
   "outputs": [
    {
     "name": "stdout",
     "output_type": "stream",
     "text": [
      "   index     budget                                    genres  \\\n",
      "0      0  237000000  Action Adventure Fantasy Science Fiction   \n",
      "1      1  300000000                  Adventure Fantasy Action   \n",
      "2      2  245000000                    Action Adventure Crime   \n",
      "3      3  250000000               Action Crime Drama Thriller   \n",
      "4      4  260000000          Action Adventure Science Fiction   \n",
      "\n",
      "                                       homepage      id  \\\n",
      "0                   http://www.avatarmovie.com/   19995   \n",
      "1  http://disney.go.com/disneypictures/pirates/     285   \n",
      "2   http://www.sonypictures.com/movies/spectre/  206647   \n",
      "3            http://www.thedarkknightrises.com/   49026   \n",
      "4          http://movies.disney.com/john-carter   49529   \n",
      "\n",
      "                                            keywords original_language  \\\n",
      "0  culture clash future space war space colony so...                en   \n",
      "1  ocean drug abuse exotic island east india trad...                en   \n",
      "2         spy based on novel secret agent sequel mi6                en   \n",
      "3  dc comics crime fighter terrorist secret ident...                en   \n",
      "4  based on novel mars medallion space travel pri...                en   \n",
      "\n",
      "                             original_title  \\\n",
      "0                                    Avatar   \n",
      "1  Pirates of the Caribbean: At World's End   \n",
      "2                                   Spectre   \n",
      "3                     The Dark Knight Rises   \n",
      "4                               John Carter   \n",
      "\n",
      "                                            overview  popularity  ... runtime  \\\n",
      "0  In the 22nd century, a paraplegic Marine is di...  150.437577  ...   162.0   \n",
      "1  Captain Barbossa, long believed to be dead, ha...  139.082615  ...   169.0   \n",
      "2  A cryptic message from Bond’s past sends him o...  107.376788  ...   148.0   \n",
      "3  Following the death of District Attorney Harve...  112.312950  ...   165.0   \n",
      "4  John Carter is a war-weary, former military ca...   43.926995  ...   132.0   \n",
      "\n",
      "                                    spoken_languages    status  \\\n",
      "0  [{\"iso_639_1\": \"en\", \"name\": \"English\"}, {\"iso...  Released   \n",
      "1           [{\"iso_639_1\": \"en\", \"name\": \"English\"}]  Released   \n",
      "2  [{\"iso_639_1\": \"fr\", \"name\": \"Fran\\u00e7ais\"},...  Released   \n",
      "3           [{\"iso_639_1\": \"en\", \"name\": \"English\"}]  Released   \n",
      "4           [{\"iso_639_1\": \"en\", \"name\": \"English\"}]  Released   \n",
      "\n",
      "                                          tagline  \\\n",
      "0                     Enter the World of Pandora.   \n",
      "1  At the end of the world, the adventure begins.   \n",
      "2                           A Plan No One Escapes   \n",
      "3                                 The Legend Ends   \n",
      "4            Lost in our world, found in another.   \n",
      "\n",
      "                                      title vote_average vote_count  \\\n",
      "0                                    Avatar          7.2      11800   \n",
      "1  Pirates of the Caribbean: At World's End          6.9       4500   \n",
      "2                                   Spectre          6.3       4466   \n",
      "3                     The Dark Knight Rises          7.6       9106   \n",
      "4                               John Carter          6.1       2124   \n",
      "\n",
      "                                                cast  \\\n",
      "0  Sam Worthington Zoe Saldana Sigourney Weaver S...   \n",
      "1  Johnny Depp Orlando Bloom Keira Knightley Stel...   \n",
      "2  Daniel Craig Christoph Waltz L\\u00e9a Seydoux ...   \n",
      "3  Christian Bale Michael Caine Gary Oldman Anne ...   \n",
      "4  Taylor Kitsch Lynn Collins Samantha Morton Wil...   \n",
      "\n",
      "                                                crew           director  \n",
      "0  [{'name': 'Stephen E. Rivkin', 'gender': 0, 'd...      James Cameron  \n",
      "1  [{'name': 'Dariusz Wolski', 'gender': 2, 'depa...     Gore Verbinski  \n",
      "2  [{'name': 'Thomas Newman', 'gender': 2, 'depar...         Sam Mendes  \n",
      "3  [{'name': 'Hans Zimmer', 'gender': 2, 'departm...  Christopher Nolan  \n",
      "4  [{'name': 'Andrew Stanton', 'gender': 2, 'depa...     Andrew Stanton  \n",
      "\n",
      "[5 rows x 24 columns]\n"
     ]
    }
   ],
   "source": [
    "import pandas as pd\n",
    "movies = pd.read_csv('movies.csv')  \n",
    "movies['genres'] = movies['genres'].str.replace('|', ' ')\n",
    "movies['genres'] = movies['genres'].fillna('')\n",
    "print(movies.head())"
   ]
  },
  {
   "cell_type": "code",
   "execution_count": 3,
   "id": "ed8d8b19-1d7e-4c25-9402-bd6ec60ba15d",
   "metadata": {},
   "outputs": [
    {
     "name": "stdout",
     "output_type": "stream",
     "text": [
      "(4803, 22)\n"
     ]
    }
   ],
   "source": [
    "from sklearn.feature_extraction.text import TfidfVectorizer\n",
    "tfidf = TfidfVectorizer(stop_words='english')\n",
    "tfidf_matrix = tfidf.fit_transform(movies['genres'])\n",
    "print(tfidf_matrix.shape)  \n"
   ]
  },
  {
   "cell_type": "code",
   "execution_count": 4,
   "id": "a1d4d4ce-7c47-49fa-ac08-4a93aa48d3fd",
   "metadata": {},
   "outputs": [
    {
     "name": "stdout",
     "output_type": "stream",
     "text": [
      "(4803, 4803)\n"
     ]
    }
   ],
   "source": [
    "from sklearn.metrics.pairwise import linear_kernel\n",
    "cosine_sim = linear_kernel(tfidf_matrix, tfidf_matrix)\n",
    "print(cosine_sim.shape) "
   ]
  },
  {
   "cell_type": "code",
   "execution_count": 5,
   "id": "f2b52121-0124-44b5-a620-215806aee91f",
   "metadata": {},
   "outputs": [
    {
     "name": "stdout",
     "output_type": "stream",
     "text": [
      "0                                          Avatar\n",
      "1        Pirates of the Caribbean: At World's End\n",
      "2                                         Spectre\n",
      "3                           The Dark Knight Rises\n",
      "4                                     John Carter\n",
      "5                                    Spider-Man 3\n",
      "6                                         Tangled\n",
      "7                         Avengers: Age of Ultron\n",
      "8          Harry Potter and the Half-Blood Prince\n",
      "9              Batman v Superman: Dawn of Justice\n",
      "10                               Superman Returns\n",
      "11                              Quantum of Solace\n",
      "12     Pirates of the Caribbean: Dead Man's Chest\n",
      "13                                The Lone Ranger\n",
      "14                                   Man of Steel\n",
      "15       The Chronicles of Narnia: Prince Caspian\n",
      "16                                   The Avengers\n",
      "17    Pirates of the Caribbean: On Stranger Tides\n",
      "18                                 Men in Black 3\n",
      "19      The Hobbit: The Battle of the Five Armies\n",
      "Name: title, dtype: object\n"
     ]
    }
   ],
   "source": [
    "print(movies['title'].head(20))  \n",
    "\n"
   ]
  },
  {
   "cell_type": "code",
   "execution_count": 6,
   "id": "cad6a0bc-4e88-42ea-b92a-c2291dd6d54d",
   "metadata": {},
   "outputs": [
    {
     "name": "stdout",
     "output_type": "stream",
     "text": [
      "Recommendations for: Spider-Man 3\n",
      "['Spider-Man 3', 'Batman v Superman: Dawn of Justice', \"Pirates of the Caribbean: Dead Man's Chest\", 'Pirates of the Caribbean: On Stranger Tides', 'The Hobbit: The Battle of the Five Armies', 'The Amazing Spider-Man', 'Spider-Man 2', 'The Amazing Spider-Man 2', 'The Mummy: Tomb of the Dragon Emperor', 'The Hobbit: An Unexpected Journey']\n"
     ]
    }
   ],
   "source": [
    "\n",
    "indices = pd.Series(movies.index, index=movies['title']).drop_duplicates()\n",
    "def get_recommendations(title, cosine_sim=cosine_sim):\n",
    "    try:\n",
    "        idx = indices[title]\n",
    "        sim_scores = list(enumerate(cosine_sim[idx]))\n",
    "        sim_scores = sorted(sim_scores, key=lambda x: x[1], reverse=True)\n",
    "        sim_scores = sim_scores[1:11]\n",
    "        movie_indices = [i[0] for i in sim_scores]\n",
    "        return movies['title'].iloc[movie_indices].tolist()\n",
    "    except KeyError:\n",
    "        print(f\"Movie '{title}' not found in the dataset.\")\n",
    "        return []\n",
    "movie_title = 'Spider-Man 3' \n",
    "recommendations = get_recommendations(movie_title)\n",
    "print(\"Recommendations for:\", movie_title)\n",
    "print(recommendations)"
   ]
  },
  {
   "cell_type": "code",
   "execution_count": null,
   "id": "9fe43269-0a5e-4156-afd0-90486e1090cb",
   "metadata": {},
   "outputs": [],
   "source": []
  }
 ],
 "metadata": {
  "kernelspec": {
   "display_name": "Python 3 (ipykernel)",
   "language": "python",
   "name": "python3"
  },
  "language_info": {
   "codemirror_mode": {
    "name": "ipython",
    "version": 3
   },
   "file_extension": ".py",
   "mimetype": "text/x-python",
   "name": "python",
   "nbconvert_exporter": "python",
   "pygments_lexer": "ipython3",
   "version": "3.11.7"
  }
 },
 "nbformat": 4,
 "nbformat_minor": 5
}
