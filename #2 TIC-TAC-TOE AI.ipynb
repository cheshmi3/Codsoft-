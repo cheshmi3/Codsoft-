{
 "cells": [
  {
   "cell_type": "code",
   "execution_count": 1,
   "id": "6db69a11-6aa6-483a-a13e-8242c8341940",
   "metadata": {},
   "outputs": [
    {
     "name": "stdout",
     "output_type": "stream",
     "text": [
      " | | \n",
      "-----\n",
      " | | \n",
      "-----\n",
      " | | \n",
      "-----\n"
     ]
    },
    {
     "name": "stdin",
     "output_type": "stream",
     "text": [
      "Enter your move (1-9):  1\n"
     ]
    },
    {
     "name": "stdout",
     "output_type": "stream",
     "text": [
      "X| | \n",
      "-----\n",
      " |O| \n",
      "-----\n",
      " | | \n",
      "-----\n"
     ]
    },
    {
     "name": "stdin",
     "output_type": "stream",
     "text": [
      "Enter your move (1-9):  2\n"
     ]
    },
    {
     "name": "stdout",
     "output_type": "stream",
     "text": [
      "X|X|O\n",
      "-----\n",
      " |O| \n",
      "-----\n",
      " | | \n",
      "-----\n"
     ]
    },
    {
     "name": "stdin",
     "output_type": "stream",
     "text": [
      "Enter your move (1-9):  7\n"
     ]
    },
    {
     "name": "stdout",
     "output_type": "stream",
     "text": [
      "X|X|O\n",
      "-----\n",
      "O|O| \n",
      "-----\n",
      "X| | \n",
      "-----\n"
     ]
    },
    {
     "name": "stdin",
     "output_type": "stream",
     "text": [
      "Enter your move (1-9):  6\n"
     ]
    },
    {
     "name": "stdout",
     "output_type": "stream",
     "text": [
      "X|X|O\n",
      "-----\n",
      "O|O|X\n",
      "-----\n",
      "X|O| \n",
      "-----\n"
     ]
    },
    {
     "name": "stdin",
     "output_type": "stream",
     "text": [
      "Enter your move (1-9):  9\n"
     ]
    },
    {
     "name": "stdout",
     "output_type": "stream",
     "text": [
      "X|X|O\n",
      "-----\n",
      "O|O|X\n",
      "-----\n",
      "X|O|X\n",
      "-----\n",
      "It's a draw!\n"
     ]
    }
   ],
   "source": [
    "import math\n",
    "\n",
    "def initialize_board():\n",
    "    return [' ' for _ in range(9)]\n",
    "\n",
    "def print_board(board):\n",
    "    for row in [board[i*3:(i+1)*3] for i in range(3)]:\n",
    "        print('|'.join(row))\n",
    "        print('-'*5)\n",
    "\n",
    "def check_winner(board, player):\n",
    "    win_conditions = [\n",
    "        [board[0], board[1], board[2]],\n",
    "        [board[3], board[4], board[5]],\n",
    "        [board[6], board[7], board[8]],\n",
    "        [board[0], board[3], board[6]],\n",
    "        [board[1], board[4], board[7]],\n",
    "        [board[2], board[5], board[8]],\n",
    "        [board[0], board[4], board[8]],\n",
    "        [board[2], board[4], board[6]]\n",
    "    ]\n",
    "    return [player, player, player] in win_conditions\n",
    "\n",
    "def is_draw(board):\n",
    "    return ' ' not in board\n",
    "\n",
    "def minimax(board, depth, is_maximizing):\n",
    "    if check_winner(board, 'O'):\n",
    "        return 1\n",
    "    elif check_winner(board, 'X'):\n",
    "        return -1\n",
    "    elif is_draw(board):\n",
    "        return 0\n",
    "\n",
    "    if is_maximizing:\n",
    "        best_score = -math.inf\n",
    "        for i in range(9):\n",
    "            if board[i] == ' ':\n",
    "                board[i] = 'O'\n",
    "                score = minimax(board, depth + 1, False)\n",
    "                board[i] = ' '\n",
    "                best_score = max(score, best_score)\n",
    "        return best_score\n",
    "    else:\n",
    "        best_score = math.inf\n",
    "        for i in range(9):\n",
    "            if board[i] == ' ':\n",
    "                board[i] = 'X'\n",
    "                score = minimax(board, depth + 1, True)\n",
    "                board[i] = ' '\n",
    "                best_score = min(score, best_score)\n",
    "        return best_score\n",
    "\n",
    "def ai_move(board):\n",
    "    best_score = -math.inf\n",
    "    move = -1\n",
    "    for i in range(9):\n",
    "        if board[i] == ' ':\n",
    "            board[i] = 'O'\n",
    "            score = minimax(board, 0, False)\n",
    "            board[i] = ' '\n",
    "            if score > best_score:\n",
    "                best_score = score\n",
    "                move = i\n",
    "    board[move] = 'O'\n",
    "\n",
    "def human_move(board):\n",
    "    move = int(input(\"Enter your move (1-9): \")) - 1\n",
    "    if board[move] == ' ':\n",
    "        board[move] = 'X'\n",
    "    else:\n",
    "        print(\"Invalid move. Try again.\")\n",
    "        human_move(board)\n",
    "\n",
    "def play_game():\n",
    "    board = initialize_board()\n",
    "    while True:\n",
    "        print_board(board)\n",
    "        if check_winner(board, 'O'):\n",
    "            print(\"AI wins!\")\n",
    "            break\n",
    "        elif check_winner(board, 'X'):\n",
    "            print(\"You win!\")\n",
    "            break\n",
    "        elif is_draw(board):\n",
    "            print(\"It's a draw!\")\n",
    "            break\n",
    "        human_move(board)\n",
    "        if not check_winner(board, 'X') and not is_draw(board):\n",
    "            ai_move(board)\n",
    "\n",
    "if __name__ == \"__main__\":\n",
    "    play_game()"
   ]
  },
  {
   "cell_type": "code",
   "execution_count": null,
   "id": "7c5f3276-2d58-44b2-839e-c001e047af5a",
   "metadata": {},
   "outputs": [],
   "source": []
  }
 ],
 "metadata": {
  "kernelspec": {
   "display_name": "Python 3 (ipykernel)",
   "language": "python",
   "name": "python3"
  },
  "language_info": {
   "codemirror_mode": {
    "name": "ipython",
    "version": 3
   },
   "file_extension": ".py",
   "mimetype": "text/x-python",
   "name": "python",
   "nbconvert_exporter": "python",
   "pygments_lexer": "ipython3",
   "version": "3.11.7"
  }
 },
 "nbformat": 4,
 "nbformat_minor": 5
}
